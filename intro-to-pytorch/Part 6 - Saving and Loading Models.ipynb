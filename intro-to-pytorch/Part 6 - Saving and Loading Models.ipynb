{
 "cells": [
  {
   "cell_type": "markdown",
   "metadata": {},
   "source": [
    "# Saving and Loading Models\n",
    "\n",
    "In this notebook, I'll show you how to save and load models with PyTorch. This is important because you'll often want to load previously trained models to use in making predictions or to continue training on new data."
   ]
  },
  {
   "cell_type": "code",
   "execution_count": 1,
   "metadata": {},
   "outputs": [],
   "source": [
    "%matplotlib inline\n",
    "%config InlineBackend.figure_format = 'retina'\n",
    "\n",
    "import matplotlib.pyplot as plt\n",
    "\n",
    "import torch\n",
    "from torch import nn\n",
    "from torch import optim\n",
    "import torch.nn.functional as F\n",
    "from torchvision import datasets, transforms\n",
    "\n",
    "import helper\n",
    "import fc_model"
   ]
  },
  {
   "cell_type": "code",
   "execution_count": 2,
   "metadata": {},
   "outputs": [],
   "source": [
    "# Define a transform to normalize the data\n",
    "transform = transforms.Compose([transforms.ToTensor(),\n",
    "                                transforms.Normalize((0.5,), (0.5,))])\n",
    "# Download and load the training data\n",
    "trainset = datasets.FashionMNIST('~/.pytorch/F_MNIST_data/', download=True, train=True, transform=transform)\n",
    "trainloader = torch.utils.data.DataLoader(trainset, batch_size=64, shuffle=True)\n",
    "\n",
    "# Download and load the test data\n",
    "testset = datasets.FashionMNIST('~/.pytorch/F_MNIST_data/', download=True, train=False, transform=transform)\n",
    "testloader = torch.utils.data.DataLoader(testset, batch_size=64, shuffle=True)"
   ]
  },
  {
   "cell_type": "markdown",
   "metadata": {},
   "source": [
    "Here we can see one of the images."
   ]
  },
  {
   "cell_type": "code",
   "execution_count": 5,
   "metadata": {},
   "outputs": [
    {
     "data": {
      "image/png": "[encoded data removed]",
      "text/plain": [
       "<Figure size 432x288 with 1 Axes>"
      ]
     },
     "metadata": {
      "image/png": {
       "height": 231,
       "width": 231
      },
      "needs_background": "light"
     },
     "output_type": "display_data"
    }
   ],
   "source": [
    "image, label = next(iter(trainloader))\n",
    "helper.imshow(image[0,:]);"
   ]
  },
  {
   "cell_type": "markdown",
   "metadata": {},
   "source": [
    "# Train a network\n",
    "\n",
    "To make things more concise here, I moved the model architecture and training code from the last part to a file called `fc_model`. Importing this, we can easily create a fully-connected network with `fc_model.Network`, and train the network using `fc_model.train`. I'll use this model (once it's trained) to demonstrate how we can save and load models."
   ]
  },
  {
   "cell_type": "code",
   "execution_count": 7,
   "metadata": {},
   "outputs": [],
   "source": [
    "# Create the network, define the criterion and optimizer\n",
    "\n",
    "model = fc_model.Network(784, 10, [512, 256, 128])\n",
    "criterion = nn.NLLLoss()\n",
    "optimizer = optim.Adam(model.parameters(), lr=0.001)"
   ]
  },
  {
   "cell_type": "code",
   "execution_count": 8,
   "metadata": {},
   "outputs": [
    {
     "name": "stdout",
     "output_type": "stream",
     "text": [
      "Epoch: 1/2..  Training Loss: 1.648..  Test Loss: 0.965..  Test Accuracy: 0.628\n",
      "Epoch: 1/2..  Training Loss: 1.042..  Test Loss: 0.775..  Test Accuracy: 0.709\n",
      "Epoch: 1/2..  Training Loss: 0.850..  Test Loss: 0.660..  Test Accuracy: 0.742\n",
      "Epoch: 1/2..  Training Loss: 0.788..  Test Loss: 0.656..  Test Accuracy: 0.735\n",
      "Epoch: 1/2..  Training Loss: 0.747..  Test Loss: 0.604..  Test Accuracy: 0.765\n",
      "Epoch: 1/2..  Training Loss: 0.702..  Test Loss: 0.601..  Test Accuracy: 0.779\n",
      "Epoch: 1/2..  Training Loss: 0.721..  Test Loss: 0.580..  Test Accuracy: 0.771\n",
      "Epoch: 1/2..  Training Loss: 0.692..  Test Loss: 0.570..  Test Accuracy: 0.785\n",
      "Epoch: 1/2..  Training Loss: 0.639..  Test Loss: 0.591..  Test Accuracy: 0.783\n",
      "Epoch: 1/2..  Training Loss: 0.629..  Test Loss: 0.548..  Test Accuracy: 0.800\n",
      "Epoch: 1/2..  Training Loss: 0.636..  Test Loss: 0.547..  Test Accuracy: 0.804\n",
      "Epoch: 1/2..  Training Loss: 0.585..  Test Loss: 0.532..  Test Accuracy: 0.799\n",
      "Epoch: 1/2..  Training Loss: 0.642..  Test Loss: 0.526..  Test Accuracy: 0.808\n",
      "Epoch: 1/2..  Training Loss: 0.641..  Test Loss: 0.523..  Test Accuracy: 0.811\n",
      "Epoch: 1/2..  Training Loss: 0.606..  Test Loss: 0.517..  Test Accuracy: 0.812\n",
      "Epoch: 1/2..  Training Loss: 0.621..  Test Loss: 0.516..  Test Accuracy: 0.804\n",
      "Epoch: 1/2..  Training Loss: 0.580..  Test Loss: 0.506..  Test Accuracy: 0.818\n",
      "Epoch: 1/2..  Training Loss: 0.594..  Test Loss: 0.514..  Test Accuracy: 0.811\n",
      "Epoch: 1/2..  Training Loss: 0.607..  Test Loss: 0.512..  Test Accuracy: 0.809\n",
      "Epoch: 1/2..  Training Loss: 0.553..  Test Loss: 0.476..  Test Accuracy: 0.820\n",
      "Epoch: 1/2..  Training Loss: 0.582..  Test Loss: 0.498..  Test Accuracy: 0.813\n",
      "Epoch: 1/2..  Training Loss: 0.558..  Test Loss: 0.464..  Test Accuracy: 0.827\n",
      "Epoch: 1/2..  Training Loss: 0.567..  Test Loss: 0.470..  Test Accuracy: 0.824\n",
      "Epoch: 2/2..  Training Loss: 0.585..  Test Loss: 0.505..  Test Accuracy: 0.811\n",
      "Epoch: 2/2..  Training Loss: 0.582..  Test Loss: 0.477..  Test Accuracy: 0.823\n",
      "Epoch: 2/2..  Training Loss: 0.551..  Test Loss: 0.480..  Test Accuracy: 0.822\n",
      "Epoch: 2/2..  Training Loss: 0.541..  Test Loss: 0.480..  Test Accuracy: 0.827\n",
      "Epoch: 2/2..  Training Loss: 0.546..  Test Loss: 0.466..  Test Accuracy: 0.834\n",
      "Epoch: 2/2..  Training Loss: 0.529..  Test Loss: 0.483..  Test Accuracy: 0.825\n",
      "Epoch: 2/2..  Training Loss: 0.526..  Test Loss: 0.484..  Test Accuracy: 0.825\n",
      "Epoch: 2/2..  Training Loss: 0.572..  Test Loss: 0.466..  Test Accuracy: 0.831\n",
      "Epoch: 2/2..  Training Loss: 0.549..  Test Loss: 0.475..  Test Accuracy: 0.827\n",
      "Epoch: 2/2..  Training Loss: 0.544..  Test Loss: 0.467..  Test Accuracy: 0.830\n",
      "Epoch: 2/2..  Training Loss: 0.533..  Test Loss: 0.465..  Test Accuracy: 0.836\n",
      "Epoch: 2/2..  Training Loss: 0.522..  Test Loss: 0.470..  Test Accuracy: 0.831\n",
      "Epoch: 2/2..  Training Loss: 0.502..  Test Loss: 0.461..  Test Accuracy: 0.838\n",
      "Epoch: 2/2..  Training Loss: 0.557..  Test Loss: 0.468..  Test Accuracy: 0.835\n",
      "Epoch: 2/2..  Training Loss: 0.531..  Test Loss: 0.465..  Test Accuracy: 0.832\n",
      "Epoch: 2/2..  Training Loss: 0.533..  Test Loss: 0.456..  Test Accuracy: 0.834\n",
      "Epoch: 2/2..  Training Loss: 0.534..  Test Loss: 0.443..  Test Accuracy: 0.838\n",
      "Epoch: 2/2..  Training Loss: 0.496..  Test Loss: 0.438..  Test Accuracy: 0.843\n",
      "Epoch: 2/2..  Training Loss: 0.499..  Test Loss: 0.445..  Test Accuracy: 0.840\n",
      "Epoch: 2/2..  Training Loss: 0.529..  Test Loss: 0.460..  Test Accuracy: 0.832\n",
      "Epoch: 2/2..  Training Loss: 0.485..  Test Loss: 0.451..  Test Accuracy: 0.831\n",
      "Epoch: 2/2..  Training Loss: 0.531..  Test Loss: 0.454..  Test Accuracy: 0.835\n",
      "Epoch: 2/2..  Training Loss: 0.527..  Test Loss: 0.453..  Test Accuracy: 0.834\n"
     ]
    }
   ],
   "source": [
    "fc_model.train(model, trainloader, testloader, criterion, optimizer, epochs=2)"
   ]
  },
  {
   "cell_type": "markdown",
   "metadata": {},
   "source": [
    "## Saving and loading networks\n",
    "\n",
    "As you can imagine, it's impractical to train a network every time you need to use it. Instead, we can save trained networks then load them later to train more or use them for predictions.\n",
    "\n",
    "The parameters for PyTorch networks are stored in a model's `state_dict`. We can see the state dict contains the weight and bias matrices for each of our layers."
   ]
  },
  {
   "cell_type": "code",
   "execution_count": null,
   "metadata": {},
   "outputs": [],
   "source": [
    "print(\"Our model: \\n\\n\", model, '\\n')\n",
    "print(\"The state dict keys: \\n\\n\", model.state_dict().keys())"
   ]
  },
  {
   "cell_type": "markdown",
   "metadata": {},
   "source": [
    "The simplest thing to do is simply save the state dict with `torch.save`. For example, we can save it to a file `'checkpoint.pth'`."
   ]
  },
  {
   "cell_type": "code",
   "execution_count": null,
   "metadata": {},
   "outputs": [],
   "source": [
    "torch.save(model.state_dict(), 'checkpoint.pth')"
   ]
  },
  {
   "cell_type": "markdown",
   "metadata": {},
   "source": [
    "Then we can load the state dict with `torch.load`."
   ]
  },
  {
   "cell_type": "code",
   "execution_count": null,
   "metadata": {},
   "outputs": [],
   "source": [
    "state_dict = torch.load('checkpoint.pth')\n",
    "print(state_dict.keys())"
   ]
  },
  {
   "cell_type": "markdown",
   "metadata": {},
   "source": [
    "And to load the state dict in to the network, you do `model.load_state_dict(state_dict)`."
   ]
  },
  {
   "cell_type": "code",
   "execution_count": null,
   "metadata": {},
   "outputs": [],
   "source": [
    "model.load_state_dict(state_dict)"
   ]
  },
  {
   "cell_type": "markdown",
   "metadata": {},
   "source": [
    "Seems pretty straightforward, but as usual it's a bit more complicated. Loading the state dict works only if the model architecture is exactly the same as the checkpoint architecture. If I create a model with a different architecture, this fails."
   ]
  },
  {
   "cell_type": "code",
   "execution_count": null,
   "metadata": {},
   "outputs": [],
   "source": [
    "# Try this\n",
    "model = fc_model.Network(784, 10, [400, 200, 100])\n",
    "# This will throw an error because the tensor sizes are wrong!\n",
    "model.load_state_dict(state_dict)"
   ]
  },
  {
   "cell_type": "markdown",
   "metadata": {},
   "source": [
    "This means we need to rebuild the model exactly as it was when trained. Information about the model architecture needs to be saved in the checkpoint, along with the state dict. To do this, you build a dictionary with all the information you need to compeletely rebuild the model."
   ]
  },
  {
   "cell_type": "code",
   "execution_count": null,
   "metadata": {},
   "outputs": [],
   "source": [
    "checkpoint = {'input_size': 784,\n",
    "              'output_size': 10,\n",
    "              'hidden_layers': [each.out_features for each in model.hidden_layers],\n",
    "              'state_dict': model.state_dict()}\n",
    "\n",
    "torch.save(checkpoint, 'checkpoint.pth')"
   ]
  },
  {
   "cell_type": "markdown",
   "metadata": {},
   "source": [
    "Now the checkpoint has all the necessary information to rebuild the trained model. You can easily make that a function if you want. Similarly, we can write a function to load checkpoints. "
   ]
  },
  {
   "cell_type": "code",
   "execution_count": null,
   "metadata": {},
   "outputs": [],
   "source": [
    "def load_checkpoint(filepath):\n",
    "    checkpoint = torch.load(filepath)\n",
    "    model = fc_model.Network(checkpoint['input_size'],\n",
    "                             checkpoint['output_size'],\n",
    "                             checkpoint['hidden_layers'])\n",
    "    model.load_state_dict(checkpoint['state_dict'])\n",
    "    \n",
    "    return model"
   ]
  },
  {
   "cell_type": "code",
   "execution_count": null,
   "metadata": {},
   "outputs": [],
   "source": [
    "model = load_checkpoint('checkpoint.pth')\n",
    "print(model)"
   ]
  }
 ],
 "metadata": {
  "kernelspec": {
   "display_name": "Python 3",
   "language": "python",
   "name": "python3"
  },
  "language_info": {
   "codemirror_mode": {
    "name": "ipython",
    "version": 3
   },
   "file_extension": ".py",
   "mimetype": "text/x-python",
   "name": "python",
   "nbconvert_exporter": "python",
   "pygments_lexer": "ipython3",
   "version": "3.7.6"
  }
 },
 "nbformat": 4,
 "nbformat_minor": 2
}
