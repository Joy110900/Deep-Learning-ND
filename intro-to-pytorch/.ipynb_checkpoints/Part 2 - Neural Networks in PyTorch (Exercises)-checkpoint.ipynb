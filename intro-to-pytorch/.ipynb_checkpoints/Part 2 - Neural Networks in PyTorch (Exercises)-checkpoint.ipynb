{
 "cells": [
  {
   "cell_type": "markdown",
   "metadata": {},
   "source": [
    "# Neural networks with PyTorch\n",
    "\n",
    "Deep learning networks tend to be massive with dozens or hundreds of layers, that's where the term \"deep\" comes from. You can build one of these deep networks using only weight matrices as we did in the previous notebook, but in general it's very cumbersome and difficult to implement. PyTorch has a nice module `nn` that provides a nice way to efficiently build large neural networks."
   ]
  },
  {
   "cell_type": "code",
   "execution_count": 38,
   "metadata": {},
   "outputs": [],
   "source": [
    "# Import necessary packages\n",
    "\n",
    "%matplotlib inline\n",
    "%config InlineBackend.figure_format = 'retina'\n",
    "\n",
    "import numpy as np\n",
    "import torch\n",
    "\n",
    "import helper\n",
    "\n",
    "import matplotlib.pyplot as plt"
   ]
  },
  {
   "cell_type": "markdown",
   "metadata": {},
   "source": [
    "\n",
    "Now we're going to build a larger network that can solve a (formerly) difficult problem, identifying text in an image. Here we'll use the MNIST dataset which consists of greyscale handwritten digits. Each image is 28x28 pixels, you can see a sample below\n",
    "\n",
    "<img src='assets/mnist.png'>\n",
    "\n",
    "Our goal is to build a neural network that can take one of these images and predict the digit in the image.\n",
    "\n",
    "First up, we need to get our dataset. This is provided through the `torchvision` package. The code below will download the MNIST dataset, then create training and test datasets for us. Don't worry too much about the details here, you'll learn more about this later."
   ]
  },
  {
   "cell_type": "code",
   "execution_count": 44,
   "metadata": {},
   "outputs": [],
   "source": [
    "### Run this cell\n",
    "\n",
    "from torchvision import datasets, transforms\n",
    "\n",
    "# Define a transform to normalize the data\n",
    "transform = transforms.Compose([transforms.ToTensor(),\n",
    "                              transforms.Normalize((0.5,), (0.5,)),\n",
    "                              ])\n",
    "# Download and load the training data\n",
    "trainset = datasets.MNIST('~/.pytorch/MNIST_data/', download=True, train=True, transform=transform)\n",
    "trainloader = torch.utils.data.DataLoader(trainset, batch_size=64, shuffle=True)"
   ]
  },
  {
   "cell_type": "markdown",
   "metadata": {},
   "source": [
    "We have the training data loaded into `trainloader` and we make that an iterator with `iter(trainloader)`. Later, we'll use this to loop through the dataset for training, like\n",
    "\n",
    "```python\n",
    "for image, label in trainloader:\n",
    "    ## do things with images and labels\n",
    "```\n",
    "\n",
    "You'll notice I created the `trainloader` with a batch size of 64, and `shuffle=True`. The batch size is the number of images we get in one iteration from the data loader and pass through our network, often called a *batch*. And `shuffle=True` tells it to shuffle the dataset every time we start going through the data loader again. But here I'm just grabbing the first batch so we can check out the data. We can see below that `images` is just a tensor with size `(64, 1, 28, 28)`. So, 64 images per batch, 1 color channel, and 28x28 images."
   ]
  },
  {
   "cell_type": "code",
   "execution_count": 45,
   "metadata": {},
   "outputs": [
    {
     "name": "stdout",
     "output_type": "stream",
     "text": [
      "<class 'torch.Tensor'>\n",
      "torch.Size([64, 1, 28, 28])\n",
      "torch.Size([64])\n"
     ]
    }
   ],
   "source": [
    "dataiter = iter(trainloader)\n",
    "images, labels = dataiter.next()\n",
    "print(type(images))\n",
    "print(images.shape)\n",
    "print(labels.shape)"
   ]
  },
  {
   "cell_type": "markdown",
   "metadata": {},
   "source": [
    "This is what one of the images looks like. "
   ]
  },
  {
   "cell_type": "code",
   "execution_count": 46,
   "metadata": {},
   "outputs": [
    {
     "data": {
      "image/png": "[encoded data removed]",
      "text/plain": [
       "<Figure size 432x288 with 1 Axes>"
      ]
     },
     "metadata": {
      "image/png": {
       "height": 248,
       "width": 251
      },
      "needs_background": "light"
     },
     "output_type": "display_data"
    }
   ],
   "source": [
    "plt.imshow(images[1].numpy().squeeze(), cmap='Greys_r');"
   ]
  },
  {
   "cell_type": "markdown",
   "metadata": {},
   "source": [
    "First, let's try to build a simple network for this dataset using weight matrices and matrix multiplications. Then, we'll see how to do it using PyTorch's `nn` module which provides a much more convenient and powerful method for defining network architectures.\n",
    "\n",
    "The networks you've seen so far are called *fully-connected* or *dense* networks. Each unit in one layer is connected to each unit in the next layer. In fully-connected networks, the input to each layer must be a one-dimensional vector (which can be stacked into a 2D tensor as a batch of multiple examples). However, our images are 28x28 2D tensors, so we need to convert them into 1D vectors. Thinking about sizes, we need to convert the batch of images with shape `(64, 1, 28, 28)` to a have a shape of `(64, 784)`, 784 is 28 times 28. This is typically called *flattening*, we flattened the 2D images into 1D vectors.\n",
    "\n",
    "Previously you built a network with one output unit. Here we need 10 output units, one for each digit. We want our network to predict the digit shown in an image, so what we'll do is calculate probabilities that the image is of any one digit or class. This ends up being a discrete probability distribution over the classes (digits) that tells us the most likely class for the image. That means we need 10 output units for the 10 classes (digits). We'll see how to convert the network output into a probability distribution next.\n",
    "\n",
    "> **Exercise:** Flatten the batch of images `images`. Then build a multi-layer network with 784 input units, 256 hidden units, and 10 output units using random tensors for the weights and biases. For now, use a sigmoid activation for the hidden layer. Leave the output layer without an activation, we'll add one that gives us a probability distribution next."
   ]
  },
  {
   "cell_type": "code",
   "execution_count": 48,
   "metadata": {},
   "outputs": [
    {
     "name": "stdout",
     "output_type": "stream",
     "text": [
      "tensor([[-26.9254, -11.3742, -10.2420, -11.2790,  -6.8977, -14.1467,  -6.6485,\n",
      "           9.3757,   8.0272,  -0.2097],\n",
      "        [-25.2602,  -5.3873, -13.1073,  -8.1807,  -2.8513,  -6.0106,  -3.0291,\n",
      "          -6.4415,  12.4601,   2.8393],\n",
      "        [-18.8447, -11.3249,  -1.2892,   3.6106,   2.8939,  -6.1727,  -6.9386,\n",
      "           7.1176,   5.6394,   6.9691],\n",
      "        [-19.3468, -24.9687, -17.7211,   1.3945,  -3.2379,   3.1911,  -6.0051,\n",
      "           4.2931,   5.8337,   7.3605],\n",
      "        [-15.4904, -15.4206,  -8.4208,  -0.7324,  -5.2400,   1.5287,  -9.9101,\n",
      "           3.6473,   1.5587,   5.7891],\n",
      "        [-14.6222, -12.3092, -14.5340,  -3.5678,  -3.4987,  -0.3165, -11.0748,\n",
      "          -0.7314,   7.4485,  11.0113],\n",
      "        [-27.2961, -17.3042, -16.1363, -12.3874,  -6.1835,  -0.7944,  -9.2360,\n",
      "           3.0224,   9.8514,   9.0674],\n",
      "        [-23.7709,  -5.8782, -18.8181,   1.1178,  -1.8072,  -4.8450, -10.6542,\n",
      "           4.1459,  12.1945,   4.9498],\n",
      "        [-12.0140,  -2.2493,  -7.8565,  -1.1241,  -1.0296,  -2.6724,  -5.4386,\n",
      "           3.2416,  13.3569,   5.0985],\n",
      "        [-28.0959, -10.5879, -17.6314,  -5.5174,   0.3418,  -6.5637,  -6.4740,\n",
      "           5.9367,  14.2314,   3.4293],\n",
      "        [-23.2193, -17.7097, -18.4785,  -9.6386,  -3.5251,  -5.9615,  -9.2123,\n",
      "          -0.5755,   6.3164,   4.4924],\n",
      "        [-23.4170, -16.9946, -11.6702, -11.7691,  -5.9605,  -3.8470, -11.0884,\n",
      "          -0.7321,  12.9080,  -1.4964],\n",
      "        [-19.6814,  -9.0188,  -3.9709,  -3.3189,  -2.9171,  -8.0319, -12.1444,\n",
      "           3.5644,  10.0400,   7.6997],\n",
      "        [-25.3701,  -9.7157, -13.0245,  -3.5572,   0.0401,  -3.1569,  -7.9891,\n",
      "           0.2822,   0.8322,   3.4908],\n",
      "        [-15.1436, -19.4491,   1.6286,  -1.3916,  -0.4276,  -2.8085,  -4.5042,\n",
      "           1.3902,  11.9223,   4.4186],\n",
      "        [-28.5500,  -8.0446, -16.9946,  -2.1489,   0.9046,  -0.8374,  -2.7267,\n",
      "           6.7401,  11.3463,   7.1593],\n",
      "        [-19.0298, -14.0346,  -8.0790,   2.9842,  -3.5889,  -3.4762,  -8.0039,\n",
      "           0.5646,   7.2636,   3.0087],\n",
      "        [-12.3669, -16.1729,  -4.2475,  -3.3814,   4.3150,   2.1437, -13.1915,\n",
      "           2.7536,   7.5466,   3.7210],\n",
      "        [-12.6209, -13.5737, -13.2202,  -4.0796,   1.1866,  -2.5745,  -9.2700,\n",
      "           6.2471,  14.6823,  14.5553],\n",
      "        [-10.8343, -10.5982,  -8.0640,  -0.6294,   0.5129,  -5.4195,  -4.3889,\n",
      "           4.2564,  14.8451,  -1.5435],\n",
      "        [-19.7798, -10.2089, -11.0110,   8.6228,  -1.5350,   5.6611,  -5.5856,\n",
      "           4.7909,   5.6482,  10.0672],\n",
      "        [-18.1836, -16.1269, -13.9980,  -3.6795, -10.8385,  -3.6532,  -5.1640,\n",
      "           5.9881,   9.0201,  -1.1217],\n",
      "        [-10.4547, -11.5640, -11.1162,  -4.1613,   1.7575,  -3.1811, -13.6915,\n",
      "          10.7704,   6.1881,   9.1802],\n",
      "        [ -5.0978, -11.0627, -21.3757,   3.0541,  -9.2360,   1.5856,  -2.0853,\n",
      "           0.1904,   5.2577,  13.3445],\n",
      "        [-11.5251, -12.9549, -14.2178,   0.3438,  -1.8299,  -4.4492,  -5.6215,\n",
      "          -3.9410,   4.2613,  13.6415],\n",
      "        [-15.8435, -11.4166,  -9.9220,  -3.1826,  -0.3060,   0.2990,  -6.2283,\n",
      "           0.8002,  10.2124,   5.2308],\n",
      "        [-28.3147,  -9.0288,  -2.5463,  -6.6949,  -4.6782,  -6.8987,  -4.1896,\n",
      "          -0.6269,  11.7143,   8.4223],\n",
      "        [-20.8961,  -9.5155,  -6.2744,   6.5088,  -6.4268,  -2.9675,  -4.9605,\n",
      "           1.4531,   5.5347,  10.7165],\n",
      "        [-19.0752,  -6.9044, -10.0292,  -3.7253,   2.0856,   3.1361, -11.5908,\n",
      "           1.9635,   6.7690,   2.3335],\n",
      "        [-18.8968,  -7.5863,  -8.5611, -13.0505,  -6.0481,  -2.3989,  -5.6522,\n",
      "          -1.0438,  11.3704,   5.6288],\n",
      "        [-10.8993, -13.9977, -15.7638,  -6.4490,  -5.6065,  -2.5785,   1.6936,\n",
      "          -3.0061,   9.8742,  19.7966],\n",
      "        [-23.4625, -15.8633,  -9.2166,  -4.0825,  -4.4600,  -9.2679,  -8.5927,\n",
      "           2.7270,   1.4644,   5.3331],\n",
      "        [-11.4601, -13.7951, -17.9907,  -1.4632,   2.1911,  -2.6679,  -8.6678,\n",
      "          -3.2065,   5.1616,  10.9601],\n",
      "        [-20.4026, -12.6591, -21.0575,   0.6175,  -8.8497,   9.0934, -10.7281,\n",
      "           4.1565,   6.1421,  -0.3731],\n",
      "        [-15.7795,  -5.8588, -14.3513,   0.5910,   0.2815,   5.7503,   3.6074,\n",
      "           5.5902,  15.5606,   1.2470],\n",
      "        [ -5.4741, -15.1578,  -8.4052,  -9.8575,  -6.7011,  -3.2375,   1.3913,\n",
      "           1.9871,   6.6231,   7.4890],\n",
      "        [-29.2607,  -8.3998,  -9.8858,  -2.1047, -10.7620,  -1.2755,  -9.9849,\n",
      "          -2.8510,  14.3218,  -3.7709],\n",
      "        [-14.1819,  -9.3952, -23.5566,  -4.0163,  -6.5455,   4.8611,  -4.5958,\n",
      "           3.4652,   0.3704,   6.7705],\n",
      "        [-13.3774,  -8.5635,  -7.2482,   1.4472,   2.3593,   8.4528,   0.4440,\n",
      "           9.1110,   8.2657,  -1.6348],\n",
      "        [-17.5295, -12.2177,  -3.5629,  -0.4041,  -5.3563,   0.2274, -12.0397,\n",
      "           7.5240,   3.6730,   4.4443],\n",
      "        [-14.9804, -18.0870, -11.7673,  -5.7484,   2.2014,   2.0450,  -9.4013,\n",
      "           2.8094,  10.8340,   0.2492],\n",
      "        [-18.4774,  -7.5859, -10.2586, -17.0180,  -0.9822,  -6.9237,   0.7816,\n",
      "          -3.8716,  16.6457,  16.4699],\n",
      "        [-22.9231, -20.1776, -12.9409, -14.7764,  -3.7906,   0.4363,  -4.9052,\n",
      "          -1.5429,   9.0161,   4.7951],\n",
      "        [-17.4961, -23.2995,  -9.0894,  -4.5686,  -2.6372,   0.7868,  -0.8101,\n",
      "          -2.1503,  10.8662,  -6.4340],\n",
      "        [-23.4167, -14.0009,  -8.9093,  -5.3136,  -6.7900,  -8.1675,   4.8230,\n",
      "           1.1611,   8.1043,   2.3322],\n",
      "        [-17.7975, -15.7873,  -6.0628,  -1.5169,  -0.4686,  -3.6464, -14.7443,\n",
      "           2.1482,   2.2956,   9.8966],\n",
      "        [-28.0232, -16.4564, -12.9382,  -6.1942,  -3.2229,  -4.8283, -10.0112,\n",
      "           2.0609,   8.1108,   0.7816],\n",
      "        [-10.8114, -19.5968, -20.6130,  -4.1755,  -6.2211,  -5.3606,  -9.3659,\n",
      "           2.5274,   4.2158,   7.7218],\n",
      "        [-18.6809, -10.7394,  -7.1741,  -0.8935,  -3.7584,  -6.2607, -21.4323,\n",
      "           4.5335,   0.7894,   4.9532],\n",
      "        [-22.6032, -20.2484,  -0.2713,  -3.4271, -11.0997,   2.3049,  -5.3367,\n",
      "           4.6660,  11.3571,   5.2157],\n",
      "        [-16.7193, -15.6593,  -5.4881,  -4.1922, -11.9413,  -0.9064,  -6.1617,\n",
      "           1.8335,   8.3844,  -1.1869],\n",
      "        [-18.4169, -17.0252,  -5.6457,   3.2158,  -8.9969,  -4.6160, -10.4137,\n",
      "           3.5253,   7.6075,   8.4340],\n",
      "        [ -9.3208, -14.3859, -16.2980, -16.9829,  -7.5436,   0.5017,   1.6679,\n",
      "           4.6516,   5.3083,  -2.9337],\n",
      "        [-17.1970, -21.0084,  -9.7819,  -8.4356,   3.1748,   0.9511,  11.7432,\n",
      "           6.1944,  15.1664,   8.2863],\n",
      "        [-10.1698, -14.8728,  -7.6005,   1.6424,  -4.0593,   9.0925,   1.6662,\n",
      "           1.9601,  10.5531,   4.9082],\n",
      "        [-23.1228, -22.1646, -12.4414, -11.1081, -12.0366,  -5.5838, -16.3331,\n",
      "           0.7836,   3.6055, -10.3004],\n",
      "        [-20.6316, -17.3436, -20.0163,  -6.9245,  -6.4361,  -0.1615,  -3.5279,\n",
      "         -10.1591,  14.8778,  12.7545],\n",
      "        [-10.8446, -11.0836,  -8.7409,  -2.3590,  -4.8329,  -1.4276, -13.9976,\n",
      "           3.5442,   3.1568,  12.7355],\n",
      "        [-27.4142, -28.2328,  -7.0979,  -1.4474,   1.0548,   1.1401,  -0.5194,\n",
      "           3.7447,   3.0624,   7.7573],\n",
      "        [-19.6791, -22.5095, -13.1327,   3.8697,  -6.7001,   2.4124, -11.6597,\n",
      "           2.9489,   5.8858,  -1.0555],\n",
      "        [-19.8715, -16.1455, -11.6227,   0.5935, -14.8570,   2.8500, -16.1441,\n",
      "          -2.0034,   2.4126,   5.9984],\n",
      "        [-17.9400, -12.6206, -11.0579,  -1.3267,  -0.5435,  -5.4352,  -7.0723,\n",
      "           2.8791,   5.6291,   4.8480],\n",
      "        [-25.8119,  -7.7994, -16.2543,  -8.7292,  -7.5283,  -2.4341, -12.0975,\n",
      "           1.9086,   5.2780,  10.0439],\n",
      "        [-18.7666, -11.2216, -12.0633,  -7.6352, -10.5944,  -4.1952,  -5.7902,\n",
      "          -5.7102,   8.3926,   2.9784]])\n"
     ]
    }
   ],
   "source": [
    "## Solution\n",
    "def activation(x):\n",
    "    return 1/(1+torch.exp(-x))\n",
    "\n",
    "# Flatten the input images\n",
    "inputs = images.view(images.shape[0], -1)\n",
    "\n",
    "# Create parameters\n",
    "w1 = torch.randn(784, 256)\n",
    "b1 = torch.randn(256)\n",
    "\n",
    "w2 = torch.randn(256, 10)\n",
    "b2 = torch.randn(10)\n",
    "\n",
    "h = activation(torch.mm(inputs, w1) + b1)\n",
    "\n",
    "out = torch.mm(h, w2) + b2\n",
    "\n",
    "print(out)"
   ]
  },
  {
   "cell_type": "markdown",
   "metadata": {},
   "source": [
    "Now we have 10 outputs for our network. We want to pass in an image to our network and get out a probability distribution over the classes that tells us the likely class(es) the image belongs to. Something that looks like this:\n",
    "<img src='assets/image_distribution.png' width=500px>\n",
    "\n",
    "Here we see that the probability for each class is roughly the same. This is representing an untrained network, it hasn't seen any data yet so it just returns a uniform distribution with equal probabilities for each class.\n",
    "\n",
    "To calculate this probability distribution, we often use the [**softmax** function](https://en.wikipedia.org/wiki/Softmax_function). Mathematically this looks like\n",
    "\n",
    "$$\n",
    "\\Large \\sigma(x_i) = \\cfrac{e^{x_i}}{\\sum_k^K{e^{x_k}}}\n",
    "$$\n",
    "\n",
    "What this does is squish each input $x_i$ between 0 and 1 and normalizes the values to give you a proper probability distribution where the probabilites sum up to one.\n",
    "\n",
    "> **Exercise:** Implement a function `softmax` that performs the softmax calculation and returns probability distributions for each example in the batch. Note that you'll need to pay attention to the shapes when doing this. If you have a tensor `a` with shape `(64, 10)` and a tensor `b` with shape `(64,)`, doing `a/b` will give you an error because PyTorch will try to do the division across the columns (called broadcasting) but you'll get a size mismatch. The way to think about this is for each of the 64 examples, you only want to divide by one value, the sum in the denominator. So you need `b` to have a shape of `(64, 1)`. This way PyTorch will divide the 10 values in each row of `a` by the one value in each row of `b`. Pay attention to how you take the sum as well. You'll need to define the `dim` keyword in `torch.sum`. Setting `dim=0` takes the sum across the rows while `dim=1` takes the sum across the columns."
   ]
  },
  {
   "cell_type": "code",
   "execution_count": 55,
   "metadata": {},
   "outputs": [
    {
     "name": "stdout",
     "output_type": "stream",
     "text": [
      "torch.Size([64, 10])\n",
      "tensor([1.0000, 1.0000, 1.0000, 1.0000, 1.0000, 1.0000, 1.0000, 1.0000, 1.0000,\n",
      "        1.0000, 1.0000, 1.0000, 1.0000, 1.0000, 1.0000, 1.0000, 1.0000, 1.0000,\n",
      "        1.0000, 1.0000, 1.0000, 1.0000, 1.0000, 1.0000, 1.0000, 1.0000, 1.0000,\n",
      "        1.0000, 1.0000, 1.0000, 1.0000, 1.0000, 1.0000, 1.0000, 1.0000, 1.0000,\n",
      "        1.0000, 1.0000, 1.0000, 1.0000, 1.0000, 1.0000, 1.0000, 1.0000, 1.0000,\n",
      "        1.0000, 1.0000, 1.0000, 1.0000, 1.0000, 1.0000, 1.0000, 1.0000, 1.0000,\n",
      "        1.0000, 1.0000, 1.0000, 1.0000, 1.0000, 1.0000, 1.0000, 1.0000, 1.0000,\n",
      "        1.0000])\n"
     ]
    }
   ],
   "source": [
    "def softmax(x):\n",
    "    ## TODO: Implement the softmax function here\n",
    "    return torch.exp(x)/torch.sum(torch.exp(x), dim=1).view(-1, 1)\n",
    "# Here, out should be the output of the network in the previous excercise with shape (64,10)\n",
    "probabilities = softmax(out)\n",
    "\n",
    "# Does it have the right shape? Should be (64, 10)\n",
    "print(probabilities.shape)\n",
    "# Does it sum to 1?\n",
    "print(probabilities.sum(dim=1))"
   ]
  },
  {
   "cell_type": "markdown",
   "metadata": {},
   "source": [
    "## Building networks with PyTorch\n",
    "\n",
    "PyTorch provides a module `nn` that makes building networks much simpler. Here I'll show you how to build the same one as above with 784 inputs, 256 hidden units, 10 output units and a softmax output."
   ]
  },
  {
   "cell_type": "code",
   "execution_count": 56,
   "metadata": {},
   "outputs": [],
   "source": [
    "from torch import nn"
   ]
  },
  {
   "cell_type": "code",
   "execution_count": 57,
   "metadata": {},
   "outputs": [],
   "source": [
    "class Network(nn.Module):\n",
    "    def __init__(self):\n",
    "        super().__init__()\n",
    "        \n",
    "        # Inputs to hidden layer linear transformation\n",
    "        self.hidden = nn.Linear(784, 256)\n",
    "        # Output layer, 10 units - one for each digit\n",
    "        self.output = nn.Linear(256, 10)\n",
    "        \n",
    "        # Define sigmoid activation and softmax output \n",
    "        self.sigmoid = nn.Sigmoid()\n",
    "        self.softmax = nn.Softmax(dim=1)\n",
    "        \n",
    "    def forward(self, x):\n",
    "        # Pass the input tensor through each of our operations\n",
    "        x = self.hidden(x)\n",
    "        x = self.sigmoid(x)\n",
    "        x = self.output(x)\n",
    "        x = self.softmax(x)\n",
    "        \n",
    "        return x"
   ]
  },
  {
   "cell_type": "markdown",
   "metadata": {},
   "source": [
    "Let's go through this bit by bit.\n",
    "\n",
    "```python\n",
    "class Network(nn.Module):\n",
    "```\n",
    "\n",
    "Here we're inheriting from `nn.Module`. Combined with `super().__init__()` this creates a class that tracks the architecture and provides a lot of useful methods and attributes. It is mandatory to inherit from `nn.Module` when you're creating a class for your network. The name of the class itself can be anything.\n",
    "\n",
    "```python\n",
    "self.hidden = nn.Linear(784, 256)\n",
    "```\n",
    "\n",
    "This line creates a module for a linear transformation, $x\\mathbf{W} + b$, with 784 inputs and 256 outputs and assigns it to `self.hidden`. The module automatically creates the weight and bias tensors which we'll use in the `forward` method. You can access the weight and bias tensors once the network (`net`) is created with `net.hidden.weight` and `net.hidden.bias`.\n",
    "\n",
    "```python\n",
    "self.output = nn.Linear(256, 10)\n",
    "```\n",
    "\n",
    "Similarly, this creates another linear transformation with 256 inputs and 10 outputs.\n",
    "\n",
    "```python\n",
    "self.sigmoid = nn.Sigmoid()\n",
    "self.softmax = nn.Softmax(dim=1)\n",
    "```\n",
    "\n",
    "Here I defined operations for the sigmoid activation and softmax output. Setting `dim=1` in `nn.Softmax(dim=1)` calculates softmax across the columns.\n",
    "\n",
    "```python\n",
    "def forward(self, x):\n",
    "```\n",
    "\n",
    "PyTorch networks created with `nn.Module` must have a `forward` method defined. It takes in a tensor `x` and passes it through the operations you defined in the `__init__` method.\n",
    "\n",
    "```python\n",
    "x = self.hidden(x)\n",
    "x = self.sigmoid(x)\n",
    "x = self.output(x)\n",
    "x = self.softmax(x)\n",
    "```\n",
    "\n",
    "Here the input tensor `x` is passed through each operation and reassigned to `x`. We can see that the input tensor goes through the hidden layer, then a sigmoid function, then the output layer, and finally the softmax function. It doesn't matter what you name the variables here, as long as the inputs and outputs of the operations match the network architecture you want to build. The order in which you define things in the `__init__` method doesn't matter, but you'll need to sequence the operations correctly in the `forward` method.\n",
    "\n",
    "Now we can create a `Network` object."
   ]
  },
  {
   "cell_type": "code",
   "execution_count": 58,
   "metadata": {},
   "outputs": [
    {
     "data": {
      "text/plain": [
       "Network(\n",
       "  (hidden): Linear(in_features=784, out_features=256, bias=True)\n",
       "  (output): Linear(in_features=256, out_features=10, bias=True)\n",
       "  (sigmoid): Sigmoid()\n",
       "  (softmax): Softmax(dim=1)\n",
       ")"
      ]
     },
     "execution_count": 58,
     "metadata": {},
     "output_type": "execute_result"
    }
   ],
   "source": [
    "# Create the network and look at it's text representation\n",
    "model = Network()\n",
    "model"
   ]
  },
  {
   "cell_type": "markdown",
   "metadata": {},
   "source": [
    "You can define the network somewhat more concisely and clearly using the `torch.nn.functional` module. This is the most common way you'll see networks defined as many operations are simple element-wise functions. We normally import this module as `F`, `import torch.nn.functional as F`."
   ]
  },
  {
   "cell_type": "code",
   "execution_count": 61,
   "metadata": {},
   "outputs": [],
   "source": [
    "import torch.nn.functional as F\n",
    "\n",
    "class Network(nn.Module):\n",
    "    def __init__(self):\n",
    "        super().__init__()\n",
    "        # Inputs to hidden layer linear transformation\n",
    "        self.hidden = nn.Linear(784, 256)\n",
    "        # Output layer, 10 units - one for each digit\n",
    "        self.output = nn.Linear(256, 10)\n",
    "        \n",
    "    def forward(self, x):\n",
    "        # Hidden layer with sigmoid activation\n",
    "        x = F.sigmoid(self.hidden(x))\n",
    "        # Output layer with softmax activation\n",
    "        x = F.softmax(self.output(x), dim=1)\n",
    "        \n",
    "        return x"
   ]
  },
  {
   "cell_type": "markdown",
   "metadata": {},
   "source": [
    "### Activation functions\n",
    "\n",
    "So far we've only been looking at the sigmoid activation function, but in general any function can be used as an activation function. The only requirement is that for a network to approximate a non-linear function, the activation functions must be non-linear. Here are a few more examples of common activation functions: Tanh (hyperbolic tangent), and ReLU (rectified linear unit).\n",
    "\n",
    "<img src=\"assets/activation.png\" width=700px>\n",
    "\n",
    "In practice, the ReLU function is used almost exclusively as the activation function for hidden layers."
   ]
  },
  {
   "cell_type": "markdown",
   "metadata": {},
   "source": [
    "### Your Turn to Build a Network\n",
    "\n",
    "<img src=\"assets/mlp_mnist.png\" width=600px>\n",
    "\n",
    "> **Exercise:** Create a network with 784 input units, a hidden layer with 128 units and a ReLU activation, then a hidden layer with 64 units and a ReLU activation, and finally an output layer with a softmax activation as shown above. You can use a ReLU activation with the `nn.ReLU` module or `F.relu` function.\n",
    "\n",
    "It's good practice to name your layers by their type of network, for instance 'fc' to represent a fully-connected layer. As you code your solution, use `fc1`, `fc2`, and `fc3` as your layer names."
   ]
  },
  {
   "cell_type": "code",
   "execution_count": 69,
   "metadata": {
    "scrolled": true
   },
   "outputs": [],
   "source": [
    "import torch.nn.functional as F\n",
    "\n",
    "class Network(nn.Module):\n",
    "    def __init__(self):\n",
    "        super().__init__()\n",
    "        # Inputs to hidden layer linear transformation\n",
    "        self.fc1 = nn.Linear(784, 128)\n",
    "        self.fc2 = nn.Linear(128, 64)\n",
    "        # Output layer, 10 units - one for each digit\n",
    "        self.fc3 = nn.Linear(64, 10)\n",
    "        \n",
    "    def forward(self, x):\n",
    "        # Hidden layer with sigmoid activation\n",
    "        x = self.fc1(x)\n",
    "        x = F.relu(x)\n",
    "        x = self.fc2(x)\n",
    "        x = F.relu(x)\n",
    "        # Output layer with softmax activation\n",
    "        x = F.softmax(self.fc3(x), dim=1)\n",
    "        \n",
    "        return x\n",
    "    \n",
    "model = Network()"
   ]
  },
  {
   "cell_type": "markdown",
   "metadata": {},
   "source": [
    "### Initializing weights and biases\n",
    "\n",
    "The weights and such are automatically initialized for you, but it's possible to customize how they are initialized. The weights and biases are tensors attached to the layer you defined, you can get them with `model.fc1.weight` for instance."
   ]
  },
  {
   "cell_type": "code",
   "execution_count": 70,
   "metadata": {},
   "outputs": [
    {
     "name": "stdout",
     "output_type": "stream",
     "text": [
      "Parameter containing:\n",
      "tensor([[ 0.0233, -0.0133, -0.0148,  ...,  0.0178, -0.0268, -0.0034],\n",
      "        [-0.0159, -0.0177,  0.0128,  ..., -0.0287, -0.0306, -0.0338],\n",
      "        [ 0.0342, -0.0076, -0.0123,  ..., -0.0223, -0.0287, -0.0011],\n",
      "        ...,\n",
      "        [ 0.0330, -0.0341, -0.0248,  ...,  0.0032, -0.0205,  0.0072],\n",
      "        [-0.0116, -0.0026, -0.0011,  ..., -0.0100,  0.0124, -0.0357],\n",
      "        [ 0.0024, -0.0273,  0.0276,  ..., -0.0182, -0.0321, -0.0007]],\n",
      "       requires_grad=True)\n",
      "Parameter containing:\n",
      "tensor([-0.0011,  0.0154,  0.0006,  0.0327, -0.0051,  0.0050,  0.0351, -0.0199,\n",
      "        -0.0307, -0.0165,  0.0025, -0.0190, -0.0148, -0.0290, -0.0274, -0.0337,\n",
      "         0.0044,  0.0193,  0.0044,  0.0302,  0.0297, -0.0242, -0.0164, -0.0324,\n",
      "        -0.0254,  0.0168,  0.0197, -0.0028, -0.0135, -0.0178, -0.0315,  0.0288,\n",
      "        -0.0020, -0.0173, -0.0118,  0.0125,  0.0152, -0.0107, -0.0156,  0.0230,\n",
      "         0.0220,  0.0041,  0.0202,  0.0050,  0.0148, -0.0111, -0.0098, -0.0025,\n",
      "        -0.0325,  0.0142, -0.0033, -0.0280, -0.0204, -0.0199,  0.0287, -0.0142,\n",
      "         0.0068,  0.0153,  0.0177,  0.0166, -0.0098, -0.0038,  0.0133, -0.0280,\n",
      "         0.0333,  0.0343, -0.0309,  0.0043, -0.0251,  0.0055, -0.0305,  0.0132,\n",
      "        -0.0101, -0.0108,  0.0166, -0.0043,  0.0305, -0.0236, -0.0035, -0.0118,\n",
      "         0.0047,  0.0285, -0.0030,  0.0153, -0.0076,  0.0048, -0.0177, -0.0032,\n",
      "        -0.0244, -0.0038, -0.0323,  0.0052,  0.0124,  0.0232,  0.0212, -0.0321,\n",
      "         0.0050, -0.0332,  0.0071, -0.0221, -0.0209,  0.0318, -0.0246,  0.0142,\n",
      "         0.0252, -0.0292,  0.0286, -0.0147, -0.0060,  0.0113,  0.0119,  0.0131,\n",
      "        -0.0290,  0.0092, -0.0048, -0.0136,  0.0110, -0.0004, -0.0224, -0.0154,\n",
      "         0.0019, -0.0292, -0.0019, -0.0009, -0.0339,  0.0232, -0.0023, -0.0169],\n",
      "       requires_grad=True)\n"
     ]
    }
   ],
   "source": [
    "print(model.fc1.weight)\n",
    "print(model.fc1.bias)"
   ]
  },
  {
   "cell_type": "markdown",
   "metadata": {},
   "source": [
    "For custom initialization, we want to modify these tensors in place. These are actually autograd *Variables*, so we need to get back the actual tensors with `model.fc1.weight.data`. Once we have the tensors, we can fill them with zeros (for biases) or random normal values."
   ]
  },
  {
   "cell_type": "code",
   "execution_count": 71,
   "metadata": {},
   "outputs": [
    {
     "data": {
      "text/plain": [
       "tensor([0., 0., 0., 0., 0., 0., 0., 0., 0., 0., 0., 0., 0., 0., 0., 0., 0., 0., 0., 0., 0., 0., 0., 0.,\n",
       "        0., 0., 0., 0., 0., 0., 0., 0., 0., 0., 0., 0., 0., 0., 0., 0., 0., 0., 0., 0., 0., 0., 0., 0.,\n",
       "        0., 0., 0., 0., 0., 0., 0., 0., 0., 0., 0., 0., 0., 0., 0., 0., 0., 0., 0., 0., 0., 0., 0., 0.,\n",
       "        0., 0., 0., 0., 0., 0., 0., 0., 0., 0., 0., 0., 0., 0., 0., 0., 0., 0., 0., 0., 0., 0., 0., 0.,\n",
       "        0., 0., 0., 0., 0., 0., 0., 0., 0., 0., 0., 0., 0., 0., 0., 0., 0., 0., 0., 0., 0., 0., 0., 0.,\n",
       "        0., 0., 0., 0., 0., 0., 0., 0.])"
      ]
     },
     "execution_count": 71,
     "metadata": {},
     "output_type": "execute_result"
    }
   ],
   "source": [
    "# Set biases to all zeros\n",
    "model.fc1.bias.data.fill_(0)"
   ]
  },
  {
   "cell_type": "code",
   "execution_count": 72,
   "metadata": {},
   "outputs": [
    {
     "data": {
      "text/plain": [
       "tensor([[-4.8928e-04, -1.1228e-02,  1.7856e-02,  ...,  9.2142e-03,\n",
       "         -1.2504e-03, -4.1152e-03],\n",
       "        [ 7.8870e-03,  1.4418e-02,  1.2233e-02,  ...,  4.5945e-03,\n",
       "         -3.1193e-03,  1.6399e-02],\n",
       "        [-3.2577e-04,  2.7182e-03, -5.1864e-03,  ...,  1.8499e-02,\n",
       "         -3.1974e-02,  9.8308e-03],\n",
       "        ...,\n",
       "        [-7.0216e-05, -9.6104e-03, -2.0165e-02,  ..., -1.3558e-02,\n",
       "          7.7105e-03, -9.4394e-04],\n",
       "        [ 1.5548e-02, -1.1898e-02, -5.8949e-03,  ..., -1.2018e-02,\n",
       "         -2.1755e-02, -5.5658e-03],\n",
       "        [ 1.0362e-02,  2.1889e-02, -9.1088e-03,  ..., -2.5415e-03,\n",
       "         -8.3401e-03,  7.0934e-03]])"
      ]
     },
     "execution_count": 72,
     "metadata": {},
     "output_type": "execute_result"
    }
   ],
   "source": [
    "# sample from random normal with standard dev = 0.01\n",
    "model.fc1.weight.data.normal_(std=0.01)"
   ]
  },
  {
   "cell_type": "markdown",
   "metadata": {},
   "source": [
    "### Forward pass\n",
    "\n",
    "Now that we have a network, let's see what happens when we pass in an image."
   ]
  },
  {
   "cell_type": "code",
   "execution_count": 73,
   "metadata": {},
   "outputs": [
    {
     "data": {
      "image/png": "[encoded data removed]",
      "text/plain": [
       "<Figure size 432x648 with 2 Axes>"
      ]
     },
     "metadata": {
      "image/png": {
       "height": 235,
       "width": 424
      },
      "needs_background": "light"
     },
     "output_type": "display_data"
    }
   ],
   "source": [
    "# Grab some data \n",
    "dataiter = iter(trainloader)\n",
    "images, labels = dataiter.next()\n",
    "\n",
    "# Resize images into a 1D vector, new shape is (batch size, color channels, image pixels) \n",
    "images.resize_(64, 1, 784)\n",
    "# or images.resize_(images.shape[0], 1, 784) to automatically get batch size\n",
    "\n",
    "# Forward pass through the network\n",
    "img_idx = 0\n",
    "ps = model.forward(images[img_idx,:])\n",
    "\n",
    "img = images[img_idx]\n",
    "helper.view_classify(img.view(1, 28, 28), ps)"
   ]
  },
  {
   "cell_type": "markdown",
   "metadata": {},
   "source": [
    "As you can see above, our network has basically no idea what this digit is. It's because we haven't trained it yet, all the weights are random!\n",
    "\n",
    "### Using `nn.Sequential`\n",
    "\n",
    "PyTorch provides a convenient way to build networks like this where a tensor is passed sequentially through operations, `nn.Sequential` ([documentation](https://pytorch.org/docs/master/nn.html#torch.nn.Sequential)). Using this to build the equivalent network:"
   ]
  },
  {
   "cell_type": "code",
   "execution_count": 74,
   "metadata": {},
   "outputs": [
    {
     "name": "stdout",
     "output_type": "stream",
     "text": [
      "Sequential(\n",
      "  (0): Linear(in_features=784, out_features=128, bias=True)\n",
      "  (1): ReLU()\n",
      "  (2): Linear(in_features=128, out_features=64, bias=True)\n",
      "  (3): ReLU()\n",
      "  (4): Linear(in_features=64, out_features=10, bias=True)\n",
      "  (5): Softmax(dim=1)\n",
      ")\n"
     ]
    },
    {
     "data": {
      "image/png": "[encoded data removed]",
      "text/plain": [
       "<Figure size 432x648 with 2 Axes>"
      ]
     },
     "metadata": {
      "image/png": {
       "height": 235,
       "width": 424
      },
      "needs_background": "light"
     },
     "output_type": "display_data"
    }
   ],
   "source": [
    "# Hyperparameters for our network\n",
    "input_size = 784\n",
    "hidden_sizes = [128, 64]\n",
    "output_size = 10\n",
    "\n",
    "# Build a feed-forward network\n",
    "model = nn.Sequential(nn.Linear(input_size, hidden_sizes[0]),\n",
    "                      nn.ReLU(),\n",
    "                      nn.Linear(hidden_sizes[0], hidden_sizes[1]),\n",
    "                      nn.ReLU(),\n",
    "                      nn.Linear(hidden_sizes[1], output_size),\n",
    "                      nn.Softmax(dim=1))\n",
    "print(model)\n",
    "\n",
    "# Forward pass through the network and display output\n",
    "images, labels = next(iter(trainloader))\n",
    "images.resize_(images.shape[0], 1, 784)\n",
    "ps = model.forward(images[0,:])\n",
    "helper.view_classify(images[0].view(1, 28, 28), ps)"
   ]
  },
  {
   "cell_type": "markdown",
   "metadata": {},
   "source": [
    "Here our model is the same as before: 784 input units, a hidden layer with 128 units, ReLU activation, 64 unit hidden layer, another ReLU, then the output layer with 10 units, and the softmax output.\n",
    "\n",
    "The operations are available by passing in the appropriate index. For example, if you want to get first Linear operation and look at the weights, you'd use `model[0]`."
   ]
  },
  {
   "cell_type": "code",
   "execution_count": 75,
   "metadata": {},
   "outputs": [
    {
     "name": "stdout",
     "output_type": "stream",
     "text": [
      "Linear(in_features=784, out_features=128, bias=True)\n"
     ]
    },
    {
     "data": {
      "text/plain": [
       "Parameter containing:\n",
       "tensor([[ 0.0101,  0.0279,  0.0261,  ..., -0.0317, -0.0110, -0.0267],\n",
       "        [-0.0145,  0.0052,  0.0159,  ..., -0.0060,  0.0255,  0.0313],\n",
       "        [ 0.0214, -0.0067, -0.0239,  ..., -0.0203, -0.0023, -0.0041],\n",
       "        ...,\n",
       "        [ 0.0050, -0.0154,  0.0082,  ...,  0.0267, -0.0263, -0.0152],\n",
       "        [ 0.0018, -0.0309, -0.0228,  ...,  0.0338,  0.0322,  0.0222],\n",
       "        [ 0.0212,  0.0065, -0.0077,  ..., -0.0344,  0.0056, -0.0133]],\n",
       "       requires_grad=True)"
      ]
     },
     "execution_count": 75,
     "metadata": {},
     "output_type": "execute_result"
    }
   ],
   "source": [
    "print(model[0])\n",
    "model[0].weight"
   ]
  },
  {
   "cell_type": "markdown",
   "metadata": {},
   "source": [
    "You can also pass in an `OrderedDict` to name the individual layers and operations, instead of using incremental integers. Note that dictionary keys must be unique, so _each operation must have a different name_."
   ]
  },
  {
   "cell_type": "code",
   "execution_count": 76,
   "metadata": {},
   "outputs": [
    {
     "data": {
      "text/plain": [
       "Sequential(\n",
       "  (fc1): Linear(in_features=784, out_features=128, bias=True)\n",
       "  (relu1): ReLU()\n",
       "  (fc2): Linear(in_features=128, out_features=64, bias=True)\n",
       "  (relu2): ReLU()\n",
       "  (output): Linear(in_features=64, out_features=10, bias=True)\n",
       "  (softmax): Softmax(dim=1)\n",
       ")"
      ]
     },
     "execution_count": 76,
     "metadata": {},
     "output_type": "execute_result"
    }
   ],
   "source": [
    "from collections import OrderedDict\n",
    "model = nn.Sequential(OrderedDict([\n",
    "                      ('fc1', nn.Linear(input_size, hidden_sizes[0])),\n",
    "                      ('relu1', nn.ReLU()),\n",
    "                      ('fc2', nn.Linear(hidden_sizes[0], hidden_sizes[1])),\n",
    "                      ('relu2', nn.ReLU()),\n",
    "                      ('output', nn.Linear(hidden_sizes[1], output_size)),\n",
    "                      ('softmax', nn.Softmax(dim=1))]))\n",
    "model"
   ]
  },
  {
   "cell_type": "markdown",
   "metadata": {},
   "source": [
    "Now you can access layers either by integer or the name"
   ]
  },
  {
   "cell_type": "code",
   "execution_count": 77,
   "metadata": {},
   "outputs": [
    {
     "name": "stdout",
     "output_type": "stream",
     "text": [
      "Linear(in_features=784, out_features=128, bias=True)\n",
      "Linear(in_features=784, out_features=128, bias=True)\n"
     ]
    }
   ],
   "source": [
    "print(model[0])\n",
    "print(model.fc1)"
   ]
  },
  {
   "cell_type": "markdown",
   "metadata": {},
   "source": [
    "In the next notebook, we'll see how we can train a neural network to accuractly predict the numbers appearing in the MNIST images."
   ]
  }
 ],
 "metadata": {
  "kernelspec": {
   "display_name": "Python 3",
   "language": "python",
   "name": "python3"
  },
  "language_info": {
   "codemirror_mode": {
    "name": "ipython",
    "version": 3
   },
   "file_extension": ".py",
   "mimetype": "text/x-python",
   "name": "python",
   "nbconvert_exporter": "python",
   "pygments_lexer": "ipython3",
   "version": "3.7.6"
  }
 },
 "nbformat": 4,
 "nbformat_minor": 2
}
